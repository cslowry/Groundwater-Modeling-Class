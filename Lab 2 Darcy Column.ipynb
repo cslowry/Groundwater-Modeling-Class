{
 "cells": [
  {
   "cell_type": "markdown",
   "metadata": {},
   "source": [
    "# Groundwater Flow Modeling at University at Buffalo\n",
    "Lab 2: Darcy Column Experiment and the One Dimension Finite Difference Code\n"
   ]
  },
  {
   "cell_type": "markdown",
   "metadata": {},
   "source": [
    "## Objective:\n",
    "    \n",
    "Develop a 1D finite difference code to solve a Darcy column experiment.\n"
   ]
  },
  {
   "cell_type": "markdown",
   "metadata": {},
   "source": [
    "## Problem:\n",
    "\n",
    "In lab today we are going to write our own 1D finite difference code to solve for head in a Darcy column.  Our approach is going to use two different types of software to solve this problem.  In part one we are going to use the iteration function within Excel.  In the second part of the lab you are going to get the chance to write your own code from scratch using Python.\n",
    "\n",
    "A vertical Darcy column contains a well sorted gravel.  Water is flowing into the top of the column and out of the bottom, just like Darcy’s original experiment.  Manometers at the top and the bottom of the column read a hydraulic head of 3.00 m and 1.00 meters, respectively.  It is your job to determine the hydraulic head at each of the given locations shown in the chart below using both an Excel and MATLAB based finite difference solution.\n"
   ]
  },
  {
   "cell_type": "markdown",
   "metadata": {},
   "source": [
    "![alt text](Darcy Column.png \"Title\")"
   ]
  },
  {
   "cell_type": "markdown",
   "metadata": {},
   "source": [
    "For both part one and two of this lab you will need to produce a plot showing the decrease in head with depth in the column along with a table similar to the one above showing the head in each of the cells."
   ]
  },
  {
   "cell_type": "markdown",
   "metadata": {},
   "source": [
    "## Part 1:\n",
    "\n",
    "Excel has a quite useful iteration capability that is under utilized by most people.  In fact, some of the newer versions of Excel they have tried to get rid of these functions because of low use.  Thankfully the iteration capabilities are back and we can use them in lab.  In this first part of the lab it is my attempt to supply as much detail as possible to make your first interaction with the finite difference approach as pleasant as possible.  It is going to be a little bit of a cookie cutter approach but please hang in there.  In the second part of the lab you are going to be on your own, so hopefully that will make up for the point and click methods in part one.  \n",
    "\n"
   ]
  },
  {
   "cell_type": "markdown",
   "metadata": {},
   "source": [
    "### Instructions for using Excel\n",
    "\n",
    "1.\t Set up your cells in Excel so that you have you have 12 cells and then apply your boundary conditions to the top of the column and the bottom of the column.  To start with we will apply a head of 3.00 m to both the top and bottom of the column.  This in effect is going to give us a simple initial condition when we get down to step 3.  In step 4 we will change the bottom boundary to match our problem domain.\n",
    "\n",
    "2.\tYou are now going to need to turn on the iteration capabilities.\n",
    "\n",
    "a.  Click the File Tab (should be in the top left corner), click Options (left hand column near bottom), and then click the Formulas category.\n",
    "\n",
    "b.  In the Calculation options section, select the Enable iterative calculation check box.\n",
    "\n",
    "c.  To set the maximum number of times that Office Excel will recalculate, type the number of iterations in the Maximum Iterations box. The higher the number of iterations, the more time that Excel needs to calculate a worksheet.  In this lab we are going to use a maximum iteration of 100.\n",
    "\n",
    "d.  To set the maximum amount of change you will accept between calculation results, type the amount in the Maximum Change box. The smaller the number, the more accurate the result and the more time that Excel needs to calculate a worksheet.  In this lab we are going to use a maximum change of 0.001 m.\n",
    "\n",
    "3.\tEnter the formula you are going to use to solve the Darcy column experiment problem into cells 2-11.  This formula is the same one we derived in class that dealt with a Homogenous, isotropic and steady state PDE (Think Laplace).\n",
    "\n",
    "4.\tChange the bottom cell to 1 m. \n",
    "\n",
    "5.\tIn step 4 you likely saw the values in the active cells change once you switched the bottom boundary condition.  This is not the final solution.  So we need to run the iteration a couple of more times by pressing the F9 key.  Please keep holding this button down until you see the model results stop changing.\n",
    "\n",
    "6.\tGraph your final head profile along with the table of head values in each of the cells.  It is kind of fun to graph these values in real time as you are running the iteration.  This allows you to see your model swing into line under as it approaches steady-state conditions (It happens really fast and is hard to see if you can’t zoom in).\n"
   ]
  },
  {
   "cell_type": "markdown",
   "metadata": {},
   "source": [
    "## Part II:\n",
    "As you can imagine Excel is a good tool to use for very simple (i.e. 1D and Steady State) groundwater flow problems.  However the world is not always 1D and Steady State, if it were I would not have a job.  So we need to find other ways to solve the finite difference problem that will allow us to upscale to more complex problems in the future.  To do this we are going learn how to write Python code that will solve this Darcy column problem for us.  The important thing to remember when writing your Python code is that everyone in the class is going to take a slightly different path on the way to the solution.  This means there is not one correct code to solve the problem but there is a correct answer (i.e. Head).\n",
    "\n",
    "Below is a short outline of how you might go about writing the code but remember “many paths; one solution” so feel free to chose your own path.\n"
   ]
  },
  {
   "cell_type": "markdown",
   "metadata": {},
   "source": [
    "### Possible Code Structure:\n",
    "1.\t Create vector representing model cells and apply an initial condition for head\n",
    "2.\tApply boundary conditions\n",
    "3.\tMake loop to iterate your finite difference equation\n",
    "4.\tCreate some sort of stopping mechanism for iteration (i.e. Max Change in cells)\n",
    "5.\tPlot Results\n"
   ]
  },
  {
   "cell_type": "code",
   "execution_count": 2,
   "metadata": {},
   "outputs": [],
   "source": [
    "import numpy as np\n",
    "\n",
    "#Creates the base model domain\n",
    "darcy_column = np.array([0.0,0.0,0.0,0.0,0.0,0.0,0.0,0.0,0.0,0.0,0.0,0.0])"
   ]
  },
  {
   "cell_type": "code",
   "execution_count": 3,
   "metadata": {},
   "outputs": [
    {
     "data": {
      "text/plain": [
       "array([3., 0., 0., 0., 0., 0., 0., 0., 0., 0., 0., 1.])"
      ]
     },
     "execution_count": 3,
     "metadata": {},
     "output_type": "execute_result"
    }
   ],
   "source": [
    "#Defines boundary conditions\n",
    "darcy_column[0]=3\n",
    "darcy_column[11]=1\n",
    "\n",
    "#Show you what darcy_column looks like\n",
    "darcy_column"
   ]
  },
  {
   "cell_type": "code",
   "execution_count": 5,
   "metadata": {},
   "outputs": [
    {
     "name": "stdout",
     "output_type": "stream",
     "text": [
      "Here is the head in the Darcy Column:\n",
      "\n",
      "[3.         2.78023602 2.56649542 2.36083393 2.16450293 1.97791391\n",
      " 1.80067241 1.63167331 1.46924489 1.31132656 1.15566328 1.        ]\n"
     ]
    }
   ],
   "source": [
    "stop = True\n",
    "darcy_last = darcy_column.copy()\n",
    "\n",
    "#Loop for iterating the finite difference eqs\n",
    "\n",
    "while stop:\n",
    "    for cell in range(1,11):\n",
    "      \n",
    "        darcy_column[cell] = (darcy_column[cell - 1] + darcy_column[cell + 1])/2\n",
    "\n",
    "#Stopping mechanism for iteration \n",
    "\n",
    "    #Finding the Change in head\n",
    "    delta_head = abs(darcy_column-darcy_last)\n",
    "\n",
    "    #This is the convergence criteria for the model\n",
    "    cc = 0.01\n",
    "\n",
    "    #Evaluating if the convergence criteria has been met\n",
    "    test_cc = all(delta_head <= [cc,cc,cc,cc,cc,cc,cc,cc,cc,cc,cc,cc])\n",
    "    \n",
    "    if test_cc:\n",
    "        stop = False\n",
    "    else:\n",
    "        darcy_last = darcy_column.copy()\n",
    "\n",
    "#Printing out results\n",
    "\n",
    "print(\"Here is the head in the Darcy Column:\\n\")\n",
    "print(darcy_column)"
   ]
  },
  {
   "cell_type": "code",
   "execution_count": 7,
   "metadata": {},
   "outputs": [
    {
     "data": {
      "text/plain": [
       "Text(0,0.5,'Height of Darcy Column (m)')"
      ]
     },
     "execution_count": 7,
     "metadata": {},
     "output_type": "execute_result"
    },
    {
     "data": {
      "image/png": "[encoded data removed]",
      "text/plain": [
       "<Figure size 432x288 with 1 Axes>"
      ]
     },
     "metadata": {},
     "output_type": "display_data"
    }
   ],
   "source": [
    "#Importing in our plotting code\n",
    "import matplotlib.pyplot as plt\n",
    "\n",
    "#Defining the y-axis lables\n",
    "length_column = [0,-.35,-.7,-1.05,-1.4,-1.75,-2.1,-2.45,-2.8,-3.15,-3.5,-3.85]\n",
    "\n",
    "plt.plot(darcy_column, length_column)\n",
    "plt.xlabel('Head (m)')\n",
    "plt.ylabel('Height of Darcy Column (m)')"
   ]
  },
  {
   "cell_type": "code",
   "execution_count": null,
   "metadata": {},
   "outputs": [],
   "source": []
  }
 ],
 "metadata": {
  "kernelspec": {
   "display_name": "Python 3",
   "language": "python",
   "name": "python3"
  },
  "language_info": {
   "codemirror_mode": {
    "name": "ipython",
    "version": 3
   },
   "file_extension": ".py",
   "mimetype": "text/x-python",
   "name": "python",
   "nbconvert_exporter": "python",
   "pygments_lexer": "ipython3",
   "version": "3.6.5"
  }
 },
 "nbformat": 4,
 "nbformat_minor": 2
}
