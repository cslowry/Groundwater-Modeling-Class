{
 "cells": [
  {
   "cell_type": "markdown",
   "metadata": {},
   "source": [
    "# Groundwater Flow Modeling at the University at Buffalo\n",
    "Lab 1: Hands on with Python\n",
    "By Chris Lowry\n"
   ]
  },
  {
   "cell_type": "markdown",
   "metadata": {},
   "source": [
    "## Objective:\n",
    "Develop some really useful skills using Matlab to manipulate large data sets.\n"
   ]
  },
  {
   "cell_type": "markdown",
   "metadata": {},
   "source": [
    "## Problem:\n",
    "The purpose of this lab is to learn a few basic “tricks” using Python.  I assume that some of you have used some sort of computer code (Python,Matlab,Visual Basic) in your other classes so some information may be review.  For others this may all be new.  Please take your time in this lab and make sure you fully understand what you are doing before moving on.  The goal of this lab is to save you time in the future when you have to deal with large data sets. \n"
   ]
  },
  {
   "cell_type": "markdown",
   "metadata": {},
   "source": [
    "### Part I:  Matlab as a calculator\n",
    "You should have already watched the video titles “Jupyter Notebook Tutorial” by Cory Schafer.  \n",
    "\n",
    "https://www.youtube.com/watch?v=HW29067qVWk\n",
    "\n",
    "This video gives you a quick (30 min) demonstration on how to navigate around in a Jypter Notebook.  There are several parts to this lab where you are going to write a set of commands.  The useful thing about the Jupyter notebook is you can do it right inside this file and run all your commands from this file.  That way at the end of the lab you will have one code that generates all answers to the lab sections. \n"
   ]
  },
  {
   "cell_type": "markdown",
   "metadata": {},
   "source": [
    "It is time to give things a spin on your own.    First, lets start by solving the following problems:"
   ]
  },
  {
   "cell_type": "markdown",
   "metadata": {},
   "source": [
    "![alt text](Groundwater Modeling Lab 1 Equation 1.png \"Title\")"
   ]
  },
  {
   "cell_type": "markdown",
   "metadata": {},
   "source": [
    "Below are the values for a,b, and c"
   ]
  },
  {
   "cell_type": "markdown",
   "metadata": {},
   "source": [
    "| Problem Number | A | B | C |\n",
    "| --- | --- | --- | --- |\n",
    "| P1 | 7 | 4 | 10 |\n",
    "| P2 | 3 | 5 | .01 |\n",
    "| P3 | 2 | 1 | 3 |\n",
    "| P4 | 2 | 9 | 7.3 |"
   ]
  },
  {
   "cell_type": "markdown",
   "metadata": {},
   "source": [
    "There are two ways to set this problem up: "
   ]
  },
  {
   "cell_type": "markdown",
   "metadata": {},
   "source": [
    "1) You can just plug the numbers into the equation like this:\n",
    "\n",
    "    (7+4)/10\n"
   ]
  },
  {
   "cell_type": "markdown",
   "metadata": {},
   "source": [
    "2) You can define the variables a,b, and c and then set the equation up just as it is written in equation 1.\n",
    "\n",
    "    a=7, b=4, c=10\n",
    "\n",
    "    (a+b)/c\n"
   ]
  },
  {
   "cell_type": "markdown",
   "metadata": {},
   "source": [
    "If you are only going to do this once, then option 1 would work but if you are going to have to do this 1000 times then we need a more efficient way of making these calculations.  If you use the same equation for a variety of different scenarios then option 2 is the way to go.  "
   ]
  },
  {
   "cell_type": "markdown",
   "metadata": {},
   "source": [
    "As you might have already guessed there are multiple ways to make things easier.  If we were to write a matrix that contained the values for a,b, and c then we could just call each row of the matrix in Python and run it through the equation.  This would save a lot of time if we had 1000 scenarios.  So let try this by making a matrix with the values from Table 1."
   ]
  },
  {
   "cell_type": "markdown",
   "metadata": {},
   "source": [
    "Here is an example of how you build a matrix which we call a \"data frame\": we are going to call our data frame “data”"
   ]
  },
  {
   "cell_type": "code",
   "execution_count": 1,
   "metadata": {},
   "outputs": [],
   "source": [
    "import pandas as pd\n",
    "\n",
    "data = pd.DataFrame({'Problem Number':['P1','P2','P3','P4'],\n",
    "                   'a,b,c':[(7,4,10),(3,5,0.1),(2,1,3),(4,9,7.3)]})\n"
   ]
  },
  {
   "cell_type": "markdown",
   "metadata": {},
   "source": [
    "In the code above we have imported in a new set of modules/code called Pandas.  This code allows us to access additional functions in Python and in particular allows us to easily build data frames. \n",
    "\n",
    "Below we will then call \"data\" and see what it looks like."
   ]
  },
  {
   "cell_type": "code",
   "execution_count": 2,
   "metadata": {},
   "outputs": [
    {
     "data": {
      "text/html": [
       "<div>\n",
       "<style scoped>\n",
       "    .dataframe tbody tr th:only-of-type {\n",
       "        vertical-align: middle;\n",
       "    }\n",
       "\n",
       "    .dataframe tbody tr th {\n",
       "        vertical-align: top;\n",
       "    }\n",
       "\n",
       "    .dataframe thead th {\n",
       "        text-align: right;\n",
       "    }\n",
       "</style>\n",
       "<table border=\"1\" class=\"dataframe\">\n",
       "  <thead>\n",
       "    <tr style=\"text-align: right;\">\n",
       "      <th></th>\n",
       "      <th>Problem Number</th>\n",
       "      <th>a,b,c</th>\n",
       "    </tr>\n",
       "  </thead>\n",
       "  <tbody>\n",
       "    <tr>\n",
       "      <th>0</th>\n",
       "      <td>P1</td>\n",
       "      <td>(7, 4, 10)</td>\n",
       "    </tr>\n",
       "    <tr>\n",
       "      <th>1</th>\n",
       "      <td>P2</td>\n",
       "      <td>(3, 5, 0.1)</td>\n",
       "    </tr>\n",
       "    <tr>\n",
       "      <th>2</th>\n",
       "      <td>P3</td>\n",
       "      <td>(2, 1, 3)</td>\n",
       "    </tr>\n",
       "    <tr>\n",
       "      <th>3</th>\n",
       "      <td>P4</td>\n",
       "      <td>(4, 9, 7.3)</td>\n",
       "    </tr>\n",
       "  </tbody>\n",
       "</table>\n",
       "</div>"
      ],
      "text/plain": [
       "  Problem Number        a,b,c\n",
       "0             P1   (7, 4, 10)\n",
       "1             P2  (3, 5, 0.1)\n",
       "2             P3    (2, 1, 3)\n",
       "3             P4  (4, 9, 7.3)"
      ]
     },
     "execution_count": 2,
     "metadata": {},
     "output_type": "execute_result"
    }
   ],
   "source": [
    "data"
   ]
  },
  {
   "cell_type": "markdown",
   "metadata": {},
   "source": [
    "If we want to see a specific set of numbers in the data frame (i.e. row P2) we can call data and then .iloc with the specific row and column number in [].  \n",
    "\n",
    "As a simple test change the code below to out put the values for a,b,c from Problem Number P4.  If you get an error think about how Python counts."
   ]
  },
  {
   "cell_type": "code",
   "execution_count": 11,
   "metadata": {},
   "outputs": [
    {
     "data": {
      "text/plain": [
       "(3, 5, 0.1)"
      ]
     },
     "execution_count": 11,
     "metadata": {},
     "output_type": "execute_result"
    }
   ],
   "source": [
    "data.iloc[1][1]"
   ]
  },
  {
   "cell_type": "markdown",
   "metadata": {},
   "source": [
    "Now that we have a data frame, we need to run through each row of the data frame and make our calculation.  To do this we are going to create something called a “for loop”.  At this point you should watch the “for loop” video Loops in Python by Kahn Academy.  \n",
    "\n",
    "https://www.youtube.com/watch?v=9LgyKiq_hU0\n",
    "\n",
    "Basically a “for loop” just counts from one to what ever number you define.  In our problem we have 4 rows of data in our data frame so we want to make a for loop that counts from 0 to 3 (remember that Python starts at zero).  In this case we are going to use the variable “i” to represent the number we are counting.  \n",
    "\n",
    "It is going to look like this:"
   ]
  },
  {
   "cell_type": "code",
   "execution_count": 33,
   "metadata": {},
   "outputs": [],
   "source": [
    "for i in range(3):\n",
    "    \n",
    "    #Then we will insert what we want to loop through here\n",
    "    \n",
    "    pass #This pass call just supresses any errors"
   ]
  },
  {
   "cell_type": "markdown",
   "metadata": {},
   "source": [
    "Inside of the “for loop” we want to put equation 1.  That means your code is going to look something like this:"
   ]
  },
  {
   "cell_type": "code",
   "execution_count": 14,
   "metadata": {},
   "outputs": [
    {
     "name": "stdout",
     "output_type": "stream",
     "text": [
      "Problem 0: 1.1\n",
      "Problem 1: 80.0\n",
      "Problem 2: 1.0\n",
      "Problem 3: 1.7808219178082192\n"
     ]
    }
   ],
   "source": [
    "answer_full = [] #This is where we store the results\n",
    "\n",
    "for i in range(4):\n",
    "    \n",
    "    #Pulling the values of a,b,c out of our data frame\n",
    "    a,b,c = data.iloc[i][1]\n",
    "\n",
    "    #Here is our calculation\n",
    "    answer = (a+b)/c\n",
    "    \n",
    "    #Here we write the results to answer_full\n",
    "    answer_full.append(answer) \n",
    "    \n",
    "    #Printing our results (This is using a f string to make things more readable)\n",
    "    print(f'Problem {i}: {answer}')"
   ]
  },
  {
   "cell_type": "markdown",
   "metadata": {},
   "source": [
    "Now lets try plotting these data.  Anytime you want to make a plot you have to start by importing a bit of code that allows you to plot data in this case it is called matplotlib.  We have just one vector, so it is really easy to plot this in Python.  Your code should look something like this:"
   ]
  },
  {
   "cell_type": "code",
   "execution_count": 15,
   "metadata": {},
   "outputs": [
    {
     "data": {
      "text/plain": [
       "Text(0,0.5,'Result')"
      ]
     },
     "execution_count": 15,
     "metadata": {},
     "output_type": "execute_result"
    },
    {
     "data": {
      "image/png": "[encoded data removed]",
      "text/plain": [
       "<Figure size 432x288 with 1 Axes>"
      ]
     },
     "metadata": {},
     "output_type": "display_data"
    }
   ],
   "source": [
    "#Importing in our plotting code\n",
    "import matplotlib.pyplot as plt\n",
    "\n",
    "#Defining the y-axis lables\n",
    "prob_num = ['P1','P2','P3','P4']\n",
    "\n",
    "plt.plot(prob_num, answer_full)\n",
    "plt.xlabel('Problem Number')\n",
    "plt.ylabel('Result')\n"
   ]
  },
  {
   "cell_type": "markdown",
   "metadata": {},
   "source": [
    "#### \"Don't Panic\" - Douglas Adams\n",
    "\n",
    "There is also a lot of information on the web about how to define functions.  Most of the time I just type my Python questions directly into a search engine and you can quickly find an answer.  An example would be to type something into Google like “Plotting in Python”."
   ]
  },
  {
   "cell_type": "markdown",
   "metadata": {},
   "source": [
    "## Part II Analyzing Stream Stage\t\n",
    "\n",
    "Now I would like you to look at Stream Stage in the Tuolumne River.  In this case we are just going to be looking at the 2007 stream stage record.  \n",
    "\n",
    "Download the stream stage data set entitled TuolumneStreamStage.txt\n",
    "\n",
    "Your new data set is going to have three columns.  Column one is the year, column two is the Julian day, column three is the stream stage in meters above sea level.\n",
    "\n",
    "In order to load these files into Python you need to use the “read_table” command using pandas.  Note that this file was tab delimited so we are using \"delim_whitespace = True\", if you have a comma delimited file you would call pd.read_csv(...).  It should turn out to look like this:\n"
   ]
  },
  {
   "cell_type": "code",
   "execution_count": 187,
   "metadata": {},
   "outputs": [
    {
     "data": {
      "text/html": [
       "<div>\n",
       "<style scoped>\n",
       "    .dataframe tbody tr th:only-of-type {\n",
       "        vertical-align: middle;\n",
       "    }\n",
       "\n",
       "    .dataframe tbody tr th {\n",
       "        vertical-align: top;\n",
       "    }\n",
       "\n",
       "    .dataframe thead th {\n",
       "        text-align: right;\n",
       "    }\n",
       "</style>\n",
       "<table border=\"1\" class=\"dataframe\">\n",
       "  <thead>\n",
       "    <tr style=\"text-align: right;\">\n",
       "      <th></th>\n",
       "      <th>0</th>\n",
       "      <th>1</th>\n",
       "      <th>2</th>\n",
       "    </tr>\n",
       "  </thead>\n",
       "  <tbody>\n",
       "    <tr>\n",
       "      <th>0</th>\n",
       "      <td>2007</td>\n",
       "      <td>0.000000</td>\n",
       "      <td>2605.199247</td>\n",
       "    </tr>\n",
       "    <tr>\n",
       "      <th>1</th>\n",
       "      <td>2007</td>\n",
       "      <td>0.020833</td>\n",
       "      <td>2605.202247</td>\n",
       "    </tr>\n",
       "    <tr>\n",
       "      <th>2</th>\n",
       "      <td>2007</td>\n",
       "      <td>0.041667</td>\n",
       "      <td>2605.203247</td>\n",
       "    </tr>\n",
       "    <tr>\n",
       "      <th>3</th>\n",
       "      <td>2007</td>\n",
       "      <td>0.062500</td>\n",
       "      <td>2605.203247</td>\n",
       "    </tr>\n",
       "    <tr>\n",
       "      <th>4</th>\n",
       "      <td>2007</td>\n",
       "      <td>0.083333</td>\n",
       "      <td>2605.203247</td>\n",
       "    </tr>\n",
       "    <tr>\n",
       "      <th>5</th>\n",
       "      <td>2007</td>\n",
       "      <td>0.104167</td>\n",
       "      <td>2605.207247</td>\n",
       "    </tr>\n",
       "    <tr>\n",
       "      <th>6</th>\n",
       "      <td>2007</td>\n",
       "      <td>0.125000</td>\n",
       "      <td>2605.208717</td>\n",
       "    </tr>\n",
       "    <tr>\n",
       "      <th>7</th>\n",
       "      <td>2007</td>\n",
       "      <td>0.145833</td>\n",
       "      <td>2605.202657</td>\n",
       "    </tr>\n",
       "    <tr>\n",
       "      <th>8</th>\n",
       "      <td>2007</td>\n",
       "      <td>0.166667</td>\n",
       "      <td>2605.204657</td>\n",
       "    </tr>\n",
       "    <tr>\n",
       "      <th>9</th>\n",
       "      <td>2007</td>\n",
       "      <td>0.187500</td>\n",
       "      <td>2605.206657</td>\n",
       "    </tr>\n",
       "    <tr>\n",
       "      <th>10</th>\n",
       "      <td>2007</td>\n",
       "      <td>0.208333</td>\n",
       "      <td>2605.209657</td>\n",
       "    </tr>\n",
       "    <tr>\n",
       "      <th>11</th>\n",
       "      <td>2007</td>\n",
       "      <td>0.229167</td>\n",
       "      <td>2605.209657</td>\n",
       "    </tr>\n",
       "    <tr>\n",
       "      <th>12</th>\n",
       "      <td>2007</td>\n",
       "      <td>0.250000</td>\n",
       "      <td>2605.210657</td>\n",
       "    </tr>\n",
       "    <tr>\n",
       "      <th>13</th>\n",
       "      <td>2007</td>\n",
       "      <td>0.270833</td>\n",
       "      <td>2605.205229</td>\n",
       "    </tr>\n",
       "    <tr>\n",
       "      <th>14</th>\n",
       "      <td>2007</td>\n",
       "      <td>0.291667</td>\n",
       "      <td>2605.207229</td>\n",
       "    </tr>\n",
       "    <tr>\n",
       "      <th>15</th>\n",
       "      <td>2007</td>\n",
       "      <td>0.312500</td>\n",
       "      <td>2605.205657</td>\n",
       "    </tr>\n",
       "    <tr>\n",
       "      <th>16</th>\n",
       "      <td>2007</td>\n",
       "      <td>0.333333</td>\n",
       "      <td>2605.204657</td>\n",
       "    </tr>\n",
       "    <tr>\n",
       "      <th>17</th>\n",
       "      <td>2007</td>\n",
       "      <td>0.354167</td>\n",
       "      <td>2605.204657</td>\n",
       "    </tr>\n",
       "    <tr>\n",
       "      <th>18</th>\n",
       "      <td>2007</td>\n",
       "      <td>0.375000</td>\n",
       "      <td>2605.199229</td>\n",
       "    </tr>\n",
       "    <tr>\n",
       "      <th>19</th>\n",
       "      <td>2007</td>\n",
       "      <td>0.395833</td>\n",
       "      <td>2605.202169</td>\n",
       "    </tr>\n",
       "    <tr>\n",
       "      <th>20</th>\n",
       "      <td>2007</td>\n",
       "      <td>0.416667</td>\n",
       "      <td>2605.205169</td>\n",
       "    </tr>\n",
       "    <tr>\n",
       "      <th>21</th>\n",
       "      <td>2007</td>\n",
       "      <td>0.437500</td>\n",
       "      <td>2605.200169</td>\n",
       "    </tr>\n",
       "    <tr>\n",
       "      <th>22</th>\n",
       "      <td>2007</td>\n",
       "      <td>0.458333</td>\n",
       "      <td>2605.198169</td>\n",
       "    </tr>\n",
       "    <tr>\n",
       "      <th>23</th>\n",
       "      <td>2007</td>\n",
       "      <td>0.479167</td>\n",
       "      <td>2605.200169</td>\n",
       "    </tr>\n",
       "    <tr>\n",
       "      <th>24</th>\n",
       "      <td>2007</td>\n",
       "      <td>0.500000</td>\n",
       "      <td>2605.198657</td>\n",
       "    </tr>\n",
       "    <tr>\n",
       "      <th>25</th>\n",
       "      <td>2007</td>\n",
       "      <td>0.520833</td>\n",
       "      <td>2605.200169</td>\n",
       "    </tr>\n",
       "    <tr>\n",
       "      <th>26</th>\n",
       "      <td>2007</td>\n",
       "      <td>0.541667</td>\n",
       "      <td>2605.198169</td>\n",
       "    </tr>\n",
       "    <tr>\n",
       "      <th>27</th>\n",
       "      <td>2007</td>\n",
       "      <td>0.562500</td>\n",
       "      <td>2605.193519</td>\n",
       "    </tr>\n",
       "    <tr>\n",
       "      <th>28</th>\n",
       "      <td>2007</td>\n",
       "      <td>0.583333</td>\n",
       "      <td>2605.195519</td>\n",
       "    </tr>\n",
       "    <tr>\n",
       "      <th>29</th>\n",
       "      <td>2007</td>\n",
       "      <td>0.604167</td>\n",
       "      <td>2605.196519</td>\n",
       "    </tr>\n",
       "    <tr>\n",
       "      <th>...</th>\n",
       "      <td>...</td>\n",
       "      <td>...</td>\n",
       "      <td>...</td>\n",
       "    </tr>\n",
       "    <tr>\n",
       "      <th>17489</th>\n",
       "      <td>2007</td>\n",
       "      <td>364.375000</td>\n",
       "      <td>2605.074837</td>\n",
       "    </tr>\n",
       "    <tr>\n",
       "      <th>17490</th>\n",
       "      <td>2007</td>\n",
       "      <td>364.395833</td>\n",
       "      <td>2605.076837</td>\n",
       "    </tr>\n",
       "    <tr>\n",
       "      <th>17491</th>\n",
       "      <td>2007</td>\n",
       "      <td>364.416667</td>\n",
       "      <td>2605.071837</td>\n",
       "    </tr>\n",
       "    <tr>\n",
       "      <th>17492</th>\n",
       "      <td>2007</td>\n",
       "      <td>364.437500</td>\n",
       "      <td>2605.070837</td>\n",
       "    </tr>\n",
       "    <tr>\n",
       "      <th>17493</th>\n",
       "      <td>2007</td>\n",
       "      <td>364.458333</td>\n",
       "      <td>2605.070837</td>\n",
       "    </tr>\n",
       "    <tr>\n",
       "      <th>17494</th>\n",
       "      <td>2007</td>\n",
       "      <td>364.479167</td>\n",
       "      <td>2605.068837</td>\n",
       "    </tr>\n",
       "    <tr>\n",
       "      <th>17495</th>\n",
       "      <td>2007</td>\n",
       "      <td>364.500000</td>\n",
       "      <td>2605.065837</td>\n",
       "    </tr>\n",
       "    <tr>\n",
       "      <th>17496</th>\n",
       "      <td>2007</td>\n",
       "      <td>364.520833</td>\n",
       "      <td>2605.066837</td>\n",
       "    </tr>\n",
       "    <tr>\n",
       "      <th>17497</th>\n",
       "      <td>2007</td>\n",
       "      <td>364.541667</td>\n",
       "      <td>2605.069837</td>\n",
       "    </tr>\n",
       "    <tr>\n",
       "      <th>17498</th>\n",
       "      <td>2007</td>\n",
       "      <td>364.562500</td>\n",
       "      <td>2605.063837</td>\n",
       "    </tr>\n",
       "    <tr>\n",
       "      <th>17499</th>\n",
       "      <td>2007</td>\n",
       "      <td>364.583333</td>\n",
       "      <td>2605.068837</td>\n",
       "    </tr>\n",
       "    <tr>\n",
       "      <th>17500</th>\n",
       "      <td>2007</td>\n",
       "      <td>364.604167</td>\n",
       "      <td>2605.068837</td>\n",
       "    </tr>\n",
       "    <tr>\n",
       "      <th>17501</th>\n",
       "      <td>2007</td>\n",
       "      <td>364.625000</td>\n",
       "      <td>2605.063837</td>\n",
       "    </tr>\n",
       "    <tr>\n",
       "      <th>17502</th>\n",
       "      <td>2007</td>\n",
       "      <td>364.645833</td>\n",
       "      <td>2605.067837</td>\n",
       "    </tr>\n",
       "    <tr>\n",
       "      <th>17503</th>\n",
       "      <td>2007</td>\n",
       "      <td>364.666667</td>\n",
       "      <td>2605.065837</td>\n",
       "    </tr>\n",
       "    <tr>\n",
       "      <th>17504</th>\n",
       "      <td>2007</td>\n",
       "      <td>364.687500</td>\n",
       "      <td>2605.065837</td>\n",
       "    </tr>\n",
       "    <tr>\n",
       "      <th>17505</th>\n",
       "      <td>2007</td>\n",
       "      <td>364.708333</td>\n",
       "      <td>2605.061837</td>\n",
       "    </tr>\n",
       "    <tr>\n",
       "      <th>17506</th>\n",
       "      <td>2007</td>\n",
       "      <td>364.729167</td>\n",
       "      <td>2605.065837</td>\n",
       "    </tr>\n",
       "    <tr>\n",
       "      <th>17507</th>\n",
       "      <td>2007</td>\n",
       "      <td>364.750000</td>\n",
       "      <td>2605.069837</td>\n",
       "    </tr>\n",
       "    <tr>\n",
       "      <th>17508</th>\n",
       "      <td>2007</td>\n",
       "      <td>364.770833</td>\n",
       "      <td>2605.069837</td>\n",
       "    </tr>\n",
       "    <tr>\n",
       "      <th>17509</th>\n",
       "      <td>2007</td>\n",
       "      <td>364.791667</td>\n",
       "      <td>2605.068837</td>\n",
       "    </tr>\n",
       "    <tr>\n",
       "      <th>17510</th>\n",
       "      <td>2007</td>\n",
       "      <td>364.812500</td>\n",
       "      <td>2605.073837</td>\n",
       "    </tr>\n",
       "    <tr>\n",
       "      <th>17511</th>\n",
       "      <td>2007</td>\n",
       "      <td>364.833333</td>\n",
       "      <td>2605.077837</td>\n",
       "    </tr>\n",
       "    <tr>\n",
       "      <th>17512</th>\n",
       "      <td>2007</td>\n",
       "      <td>364.854167</td>\n",
       "      <td>2605.080837</td>\n",
       "    </tr>\n",
       "    <tr>\n",
       "      <th>17513</th>\n",
       "      <td>2007</td>\n",
       "      <td>364.875000</td>\n",
       "      <td>2605.081837</td>\n",
       "    </tr>\n",
       "    <tr>\n",
       "      <th>17514</th>\n",
       "      <td>2007</td>\n",
       "      <td>364.895833</td>\n",
       "      <td>2605.081837</td>\n",
       "    </tr>\n",
       "    <tr>\n",
       "      <th>17515</th>\n",
       "      <td>2007</td>\n",
       "      <td>364.916667</td>\n",
       "      <td>2605.085837</td>\n",
       "    </tr>\n",
       "    <tr>\n",
       "      <th>17516</th>\n",
       "      <td>2007</td>\n",
       "      <td>364.937500</td>\n",
       "      <td>2605.088837</td>\n",
       "    </tr>\n",
       "    <tr>\n",
       "      <th>17517</th>\n",
       "      <td>2007</td>\n",
       "      <td>364.958333</td>\n",
       "      <td>2605.094837</td>\n",
       "    </tr>\n",
       "    <tr>\n",
       "      <th>17518</th>\n",
       "      <td>2007</td>\n",
       "      <td>364.979167</td>\n",
       "      <td>2605.090837</td>\n",
       "    </tr>\n",
       "  </tbody>\n",
       "</table>\n",
       "<p>17519 rows × 3 columns</p>\n",
       "</div>"
      ],
      "text/plain": [
       "          0           1            2\n",
       "0      2007    0.000000  2605.199247\n",
       "1      2007    0.020833  2605.202247\n",
       "2      2007    0.041667  2605.203247\n",
       "3      2007    0.062500  2605.203247\n",
       "4      2007    0.083333  2605.203247\n",
       "5      2007    0.104167  2605.207247\n",
       "6      2007    0.125000  2605.208717\n",
       "7      2007    0.145833  2605.202657\n",
       "8      2007    0.166667  2605.204657\n",
       "9      2007    0.187500  2605.206657\n",
       "10     2007    0.208333  2605.209657\n",
       "11     2007    0.229167  2605.209657\n",
       "12     2007    0.250000  2605.210657\n",
       "13     2007    0.270833  2605.205229\n",
       "14     2007    0.291667  2605.207229\n",
       "15     2007    0.312500  2605.205657\n",
       "16     2007    0.333333  2605.204657\n",
       "17     2007    0.354167  2605.204657\n",
       "18     2007    0.375000  2605.199229\n",
       "19     2007    0.395833  2605.202169\n",
       "20     2007    0.416667  2605.205169\n",
       "21     2007    0.437500  2605.200169\n",
       "22     2007    0.458333  2605.198169\n",
       "23     2007    0.479167  2605.200169\n",
       "24     2007    0.500000  2605.198657\n",
       "25     2007    0.520833  2605.200169\n",
       "26     2007    0.541667  2605.198169\n",
       "27     2007    0.562500  2605.193519\n",
       "28     2007    0.583333  2605.195519\n",
       "29     2007    0.604167  2605.196519\n",
       "...     ...         ...          ...\n",
       "17489  2007  364.375000  2605.074837\n",
       "17490  2007  364.395833  2605.076837\n",
       "17491  2007  364.416667  2605.071837\n",
       "17492  2007  364.437500  2605.070837\n",
       "17493  2007  364.458333  2605.070837\n",
       "17494  2007  364.479167  2605.068837\n",
       "17495  2007  364.500000  2605.065837\n",
       "17496  2007  364.520833  2605.066837\n",
       "17497  2007  364.541667  2605.069837\n",
       "17498  2007  364.562500  2605.063837\n",
       "17499  2007  364.583333  2605.068837\n",
       "17500  2007  364.604167  2605.068837\n",
       "17501  2007  364.625000  2605.063837\n",
       "17502  2007  364.645833  2605.067837\n",
       "17503  2007  364.666667  2605.065837\n",
       "17504  2007  364.687500  2605.065837\n",
       "17505  2007  364.708333  2605.061837\n",
       "17506  2007  364.729167  2605.065837\n",
       "17507  2007  364.750000  2605.069837\n",
       "17508  2007  364.770833  2605.069837\n",
       "17509  2007  364.791667  2605.068837\n",
       "17510  2007  364.812500  2605.073837\n",
       "17511  2007  364.833333  2605.077837\n",
       "17512  2007  364.854167  2605.080837\n",
       "17513  2007  364.875000  2605.081837\n",
       "17514  2007  364.895833  2605.081837\n",
       "17515  2007  364.916667  2605.085837\n",
       "17516  2007  364.937500  2605.088837\n",
       "17517  2007  364.958333  2605.094837\n",
       "17518  2007  364.979167  2605.090837\n",
       "\n",
       "[17519 rows x 3 columns]"
      ]
     },
     "execution_count": 187,
     "metadata": {},
     "output_type": "execute_result"
    }
   ],
   "source": [
    "stream_data = pd.read_table('TuolumneStreamStage.txt', delim_whitespace=True, header = None)\n",
    "stream_data"
   ]
  },
  {
   "cell_type": "markdown",
   "metadata": {},
   "source": [
    "### Plotting a hydrograph:\n",
    "\n",
    "We are now going to generate a hydrograph for the Tuolumne River.  A hydrograph shows us how the stream stage in the river goes up and down based on different climatic events.\n",
    "\n",
    "The plot we are going to generate will be a line plot of stage vs Julian day.  You should generate a plot that looks something like this.  Note: Make sure you add a title and axis labels.\n"
   ]
  },
  {
   "cell_type": "code",
   "execution_count": 188,
   "metadata": {},
   "outputs": [
    {
     "data": {
      "text/plain": [
       "Text(0.5,1,'Tuolumne River Hydrograph')"
      ]
     },
     "execution_count": 188,
     "metadata": {},
     "output_type": "execute_result"
    },
    {
     "data": {
      "image/png": "[encoded data removed]",
      "text/plain": [
       "<Figure size 432x288 with 1 Axes>"
      ]
     },
     "metadata": {},
     "output_type": "display_data"
    }
   ],
   "source": [
    "plt.plot(stream_data[1][:], stream_data[2][:])\n",
    "plt.xlabel('Julian Day for 2007')\n",
    "plt.ylabel('Stream Stage (masl)')\n",
    "plt.title('Tuolumne River Hydrograph')"
   ]
  },
  {
   "cell_type": "markdown",
   "metadata": {},
   "source": [
    "Now lets make a second plot that zooms in on these data from Julian day 300-310.  Make sure you add labels to the axis and put a title on it.  "
   ]
  },
  {
   "cell_type": "code",
   "execution_count": 189,
   "metadata": {},
   "outputs": [
    {
     "data": {
      "text/plain": [
       "Text(0.5,1,'Tuolumne River Hydrograph')"
      ]
     },
     "execution_count": 189,
     "metadata": {},
     "output_type": "execute_result"
    },
    {
     "data": {
      "image/png": "[encoded data removed]",
      "text/plain": [
       "<Figure size 432x288 with 1 Axes>"
      ]
     },
     "metadata": {},
     "output_type": "display_data"
    }
   ],
   "source": [
    "plt.plot(stream_data[1][14400:14927], stream_data[2][14400:14927])\n",
    "plt.xlabel('Julian Day for 2007')\n",
    "plt.ylabel('Stream Stage (masl)')\n",
    "plt.title('Tuolumne River Hydrograph')"
   ]
  },
  {
   "cell_type": "markdown",
   "metadata": {},
   "source": [
    "## Part III.  Determining the effect of changes in temperature on hydraulic conductivity.\n",
    "\n",
    "We said in class that Hydraulic conductivity is dependent on both the density and viscosity of water.   Your next job is to build a plot showing the effect of temperature on hydraulic conductivity.  Below is a table showing the change in viscosity and density of water as a result of changes in temperature.  \n",
    "\n",
    "I have also posted an Excel file with all these data.  Make it easy on yourself and don’t retype these numbers.  Figure out how to import in an Excel file to Python as a data frame.  It will take you a little longer the first time but once you learn how to do it will save you hours of time in the future.\n"
   ]
  },
  {
   "cell_type": "markdown",
   "metadata": {},
   "source": [
    "![alt text](Viscosity_Table.png \"Title\")"
   ]
  },
  {
   "cell_type": "markdown",
   "metadata": {},
   "source": [
    "Here is the equation that relates the viscosity and density to hydraulic conductivity."
   ]
  },
  {
   "cell_type": "markdown",
   "metadata": {},
   "source": [
    "![alt text](Temp_v_Viscosity_eqs.png \"Title\")"
   ]
  },
  {
   "cell_type": "code",
   "execution_count": 240,
   "metadata": {},
   "outputs": [
    {
     "data": {
      "text/html": [
       "<div>\n",
       "<style scoped>\n",
       "    .dataframe tbody tr th:only-of-type {\n",
       "        vertical-align: middle;\n",
       "    }\n",
       "\n",
       "    .dataframe tbody tr th {\n",
       "        vertical-align: top;\n",
       "    }\n",
       "\n",
       "    .dataframe thead th {\n",
       "        text-align: right;\n",
       "    }\n",
       "</style>\n",
       "<table border=\"1\" class=\"dataframe\">\n",
       "  <thead>\n",
       "    <tr style=\"text-align: right;\">\n",
       "      <th></th>\n",
       "      <th>Temperature (oC)</th>\n",
       "      <th>Density (kg/m3)</th>\n",
       "      <th>Kinematic Viscosity (m2/s) x 10-6</th>\n",
       "    </tr>\n",
       "  </thead>\n",
       "  <tbody>\n",
       "    <tr>\n",
       "      <th>0</th>\n",
       "      <td>0</td>\n",
       "      <td>999.9</td>\n",
       "      <td>1.787</td>\n",
       "    </tr>\n",
       "    <tr>\n",
       "      <th>1</th>\n",
       "      <td>5</td>\n",
       "      <td>1000.0</td>\n",
       "      <td>1.519</td>\n",
       "    </tr>\n",
       "    <tr>\n",
       "      <th>2</th>\n",
       "      <td>10</td>\n",
       "      <td>999.7</td>\n",
       "      <td>1.307</td>\n",
       "    </tr>\n",
       "    <tr>\n",
       "      <th>3</th>\n",
       "      <td>20</td>\n",
       "      <td>998.2</td>\n",
       "      <td>1.004</td>\n",
       "    </tr>\n",
       "    <tr>\n",
       "      <th>4</th>\n",
       "      <td>30</td>\n",
       "      <td>995.7</td>\n",
       "      <td>0.801</td>\n",
       "    </tr>\n",
       "    <tr>\n",
       "      <th>5</th>\n",
       "      <td>40</td>\n",
       "      <td>992.2</td>\n",
       "      <td>0.658</td>\n",
       "    </tr>\n",
       "    <tr>\n",
       "      <th>6</th>\n",
       "      <td>50</td>\n",
       "      <td>988.1</td>\n",
       "      <td>0.553</td>\n",
       "    </tr>\n",
       "    <tr>\n",
       "      <th>7</th>\n",
       "      <td>60</td>\n",
       "      <td>983.2</td>\n",
       "      <td>0.475</td>\n",
       "    </tr>\n",
       "    <tr>\n",
       "      <th>8</th>\n",
       "      <td>70</td>\n",
       "      <td>977.8</td>\n",
       "      <td>0.413</td>\n",
       "    </tr>\n",
       "    <tr>\n",
       "      <th>9</th>\n",
       "      <td>80</td>\n",
       "      <td>971.8</td>\n",
       "      <td>0.365</td>\n",
       "    </tr>\n",
       "    <tr>\n",
       "      <th>10</th>\n",
       "      <td>90</td>\n",
       "      <td>965.3</td>\n",
       "      <td>0.326</td>\n",
       "    </tr>\n",
       "    <tr>\n",
       "      <th>11</th>\n",
       "      <td>100</td>\n",
       "      <td>958.4</td>\n",
       "      <td>0.294</td>\n",
       "    </tr>\n",
       "  </tbody>\n",
       "</table>\n",
       "</div>"
      ],
      "text/plain": [
       "    Temperature (oC)  Density (kg/m3)  Kinematic Viscosity (m2/s) x 10-6\n",
       "0                  0            999.9                              1.787\n",
       "1                  5           1000.0                              1.519\n",
       "2                 10            999.7                              1.307\n",
       "3                 20            998.2                              1.004\n",
       "4                 30            995.7                              0.801\n",
       "5                 40            992.2                              0.658\n",
       "6                 50            988.1                              0.553\n",
       "7                 60            983.2                              0.475\n",
       "8                 70            977.8                              0.413\n",
       "9                 80            971.8                              0.365\n",
       "10                90            965.3                              0.326\n",
       "11               100            958.4                              0.294"
      ]
     },
     "execution_count": 240,
     "metadata": {},
     "output_type": "execute_result"
    }
   ],
   "source": [
    "viscosity_data = pd.read_excel('Temperature_Density_Viscosity.xlsx', header = 0)\n",
    "viscosity_data"
   ]
  },
  {
   "cell_type": "code",
   "execution_count": 241,
   "metadata": {
    "scrolled": false
   },
   "outputs": [
    {
     "data": {
      "text/html": [
       "<div>\n",
       "<style scoped>\n",
       "    .dataframe tbody tr th:only-of-type {\n",
       "        vertical-align: middle;\n",
       "    }\n",
       "\n",
       "    .dataframe tbody tr th {\n",
       "        vertical-align: top;\n",
       "    }\n",
       "\n",
       "    .dataframe thead th {\n",
       "        text-align: right;\n",
       "    }\n",
       "</style>\n",
       "<table border=\"1\" class=\"dataframe\">\n",
       "  <thead>\n",
       "    <tr style=\"text-align: right;\">\n",
       "      <th></th>\n",
       "      <th>Temperature (oC)</th>\n",
       "      <th>Density (kg/m3)</th>\n",
       "      <th>Kinematic Viscosity (m2/s) x 10-6</th>\n",
       "      <th>K (m/s)</th>\n",
       "    </tr>\n",
       "  </thead>\n",
       "  <tbody>\n",
       "    <tr>\n",
       "      <th>0</th>\n",
       "      <td>0</td>\n",
       "      <td>999.9</td>\n",
       "      <td>1.787</td>\n",
       "      <td>0.0054891</td>\n",
       "    </tr>\n",
       "    <tr>\n",
       "      <th>1</th>\n",
       "      <td>5</td>\n",
       "      <td>1000.0</td>\n",
       "      <td>1.519</td>\n",
       "      <td>0.0064582</td>\n",
       "    </tr>\n",
       "    <tr>\n",
       "      <th>2</th>\n",
       "      <td>10</td>\n",
       "      <td>999.7</td>\n",
       "      <td>1.307</td>\n",
       "      <td>0.00750349</td>\n",
       "    </tr>\n",
       "    <tr>\n",
       "      <th>3</th>\n",
       "      <td>20</td>\n",
       "      <td>998.2</td>\n",
       "      <td>1.004</td>\n",
       "      <td>0.00975333</td>\n",
       "    </tr>\n",
       "    <tr>\n",
       "      <th>4</th>\n",
       "      <td>30</td>\n",
       "      <td>995.7</td>\n",
       "      <td>0.801</td>\n",
       "      <td>0.0121945</td>\n",
       "    </tr>\n",
       "    <tr>\n",
       "      <th>5</th>\n",
       "      <td>40</td>\n",
       "      <td>992.2</td>\n",
       "      <td>0.658</td>\n",
       "      <td>0.0147925</td>\n",
       "    </tr>\n",
       "    <tr>\n",
       "      <th>6</th>\n",
       "      <td>50</td>\n",
       "      <td>988.1</td>\n",
       "      <td>0.553</td>\n",
       "      <td>0.0175285</td>\n",
       "    </tr>\n",
       "    <tr>\n",
       "      <th>7</th>\n",
       "      <td>60</td>\n",
       "      <td>983.2</td>\n",
       "      <td>0.475</td>\n",
       "      <td>0.0203057</td>\n",
       "    </tr>\n",
       "    <tr>\n",
       "      <th>8</th>\n",
       "      <td>70</td>\n",
       "      <td>977.8</td>\n",
       "      <td>0.413</td>\n",
       "      <td>0.0232257</td>\n",
       "    </tr>\n",
       "    <tr>\n",
       "      <th>9</th>\n",
       "      <td>80</td>\n",
       "      <td>971.8</td>\n",
       "      <td>0.365</td>\n",
       "      <td>0.0261188</td>\n",
       "    </tr>\n",
       "    <tr>\n",
       "      <th>10</th>\n",
       "      <td>90</td>\n",
       "      <td>965.3</td>\n",
       "      <td>0.326</td>\n",
       "      <td>0.0290478</td>\n",
       "    </tr>\n",
       "    <tr>\n",
       "      <th>11</th>\n",
       "      <td>100</td>\n",
       "      <td>958.4</td>\n",
       "      <td>0.294</td>\n",
       "      <td>0.0319793</td>\n",
       "    </tr>\n",
       "  </tbody>\n",
       "</table>\n",
       "</div>"
      ],
      "text/plain": [
       "    Temperature (oC)  Density (kg/m3)  Kinematic Viscosity (m2/s) x 10-6  \\\n",
       "0                  0            999.9                              1.787   \n",
       "1                  5           1000.0                              1.519   \n",
       "2                 10            999.7                              1.307   \n",
       "3                 20            998.2                              1.004   \n",
       "4                 30            995.7                              0.801   \n",
       "5                 40            992.2                              0.658   \n",
       "6                 50            988.1                              0.553   \n",
       "7                 60            983.2                              0.475   \n",
       "8                 70            977.8                              0.413   \n",
       "9                 80            971.8                              0.365   \n",
       "10                90            965.3                              0.326   \n",
       "11               100            958.4                              0.294   \n",
       "\n",
       "       K (m/s)  \n",
       "0    0.0054891  \n",
       "1    0.0064582  \n",
       "2   0.00750349  \n",
       "3   0.00975333  \n",
       "4    0.0121945  \n",
       "5    0.0147925  \n",
       "6    0.0175285  \n",
       "7    0.0203057  \n",
       "8    0.0232257  \n",
       "9    0.0261188  \n",
       "10   0.0290478  \n",
       "11   0.0319793  "
      ]
     },
     "execution_count": 241,
     "metadata": {},
     "output_type": "execute_result"
    }
   ],
   "source": [
    "viscosity_data['K (m/s)'] = 'NaN'\n",
    "k_in = 0.000001 #intrinsic permeability of sand [m^2]\n",
    "for i in range(12):\n",
    "    value=(k_in*(viscosity_data.iloc[i][1]*9.81)/viscosity_data.iloc[i][2])\n",
    "    viscosity_data.iat[i,3]=value\n",
    "\n",
    "viscosity_data"
   ]
  },
  {
   "cell_type": "code",
   "execution_count": 242,
   "metadata": {},
   "outputs": [
    {
     "data": {
      "text/plain": [
       "0      999.9\n",
       "1     1000.0\n",
       "2      999.7\n",
       "3      998.2\n",
       "4      995.7\n",
       "5      992.2\n",
       "6      988.1\n",
       "7      983.2\n",
       "8      977.8\n",
       "9      971.8\n",
       "10     965.3\n",
       "11     958.4\n",
       "Name: Density (kg/m3), dtype: float64"
      ]
     },
     "execution_count": 242,
     "metadata": {},
     "output_type": "execute_result"
    }
   ],
   "source": [
    "viscosity_data.iloc[:]['Density (kg/m3)']"
   ]
  },
  {
   "cell_type": "code",
   "execution_count": 243,
   "metadata": {},
   "outputs": [
    {
     "data": {
      "text/plain": [
       "Text(0.5,1,'Effect of changes in temperature on hydraulic conductivity')"
      ]
     },
     "execution_count": 243,
     "metadata": {},
     "output_type": "execute_result"
    },
    {
     "data": {
      "image/png": "[encoded data removed]",
      "text/plain": [
       "<Figure size 432x288 with 1 Axes>"
      ]
     },
     "metadata": {},
     "output_type": "display_data"
    }
   ],
   "source": [
    "plt.plot(viscosity_data.iloc[:]['Temperature (oC)'], viscosity_data.iloc[:]['K (m/s)'])\n",
    "plt.xlabel('Temperature (deg C)')\n",
    "plt.ylabel('Hydrualic Conductivity (m/s)')\n",
    "plt.title('Effect of changes in temperature on hydraulic conductivity')"
   ]
  },
  {
   "cell_type": "markdown",
   "metadata": {},
   "source": [
    "## Part IV.  Fibonacci Numbers\n",
    "Fibonacci numbers are a series of number that are based on a really simple mathematical formula.  The basic idea is you start with the numbers 0 and 1.  You then add these two numbers together and get a third number in the series.  To get the fourth number you add numbers two and three in the series.  This goes on forever.  If you were to write this in an equation it would look like this:\n"
   ]
  },
  {
   "cell_type": "markdown",
   "metadata": {},
   "source": [
    "![alt text](Fibonacci Eqs.png \"Title\")"
   ]
  },
  {
   "cell_type": "markdown",
   "metadata": {},
   "source": [
    "Fn is the Fibonacci number at position “n” which is based on the Fibonacci numbers at “n-1” and “n-2”.  In the example above these values would look as follows Fn = 1, Fn-1=1 and Fn-2=0.  What I want you to do is calculate the 72nd number in the Fibonacci series."
   ]
  },
  {
   "cell_type": "code",
   "execution_count": 252,
   "metadata": {},
   "outputs": [
    {
     "name": "stdout",
     "output_type": "stream",
     "text": [
      "498454011879264\n"
     ]
    }
   ],
   "source": [
    "a = 0\n",
    "b = 1\n",
    "for num in range(72):\n",
    "    a+b\n",
    "    a,b = b,a+b\n",
    "\n",
    "print(a)"
   ]
  },
  {
   "cell_type": "markdown",
   "metadata": {},
   "source": [
    "The other way of doing this is what writing a function."
   ]
  },
  {
   "cell_type": "code",
   "execution_count": 245,
   "metadata": {},
   "outputs": [],
   "source": [
    "def fibonacci(n):\n",
    "    a = 0\n",
    "    b = 1\n",
    "    for num in range(n):\n",
    "        yield a+b\n",
    "        a,b = b,a+b"
   ]
  },
  {
   "cell_type": "code",
   "execution_count": 253,
   "metadata": {},
   "outputs": [
    {
     "name": "stdout",
     "output_type": "stream",
     "text": [
      "498454011879264\n"
     ]
    }
   ],
   "source": [
    "for number in fibonacci(71):\n",
    "    final = number\n",
    "print(final)"
   ]
  },
  {
   "cell_type": "markdown",
   "metadata": {},
   "source": [
    "## Part V.  Order of Magnitude and Fibonacci\n",
    "\n",
    "There are times that it would be useful to run a calculation until you meet some predetermined criteria.  The idea is you are looking for a specific answer and you want your calculation to stop once you reach it.  This idea may be a little abstract as I am presenting it but next week everything will clear up significantly.  \n",
    "\n",
    "Please find the Fibonacci number that is of the order of magnitude 1.0 x 10^299.  To do this I would suggest taking some time to learn about the Python operator “while”.  \n"
   ]
  },
  {
   "cell_type": "code",
   "execution_count": 250,
   "metadata": {},
   "outputs": [
    {
     "name": "stdout",
     "output_type": "stream",
     "text": [
      "134835259728818360369862472539294559711539143770143212940057981728560475421016049945247304137202927782058170880319804942407644679152524664378105235799310479479325089485302871461646484522143446640723524497940728860950464653868410812096171855773515506958419620396000890990525907195607938740112010091853\n"
     ]
    }
   ],
   "source": [
    "a = 0\n",
    "b = 1\n",
    "\n",
    "while a <= 10**299:\n",
    "    (a+b)\n",
    "    a,b = b,a+b\n",
    "\n",
    "print(a)\n",
    "    "
   ]
  },
  {
   "cell_type": "code",
   "execution_count": null,
   "metadata": {},
   "outputs": [],
   "source": []
  }
 ],
 "metadata": {
  "kernelspec": {
   "display_name": "Python 3",
   "language": "python",
   "name": "python3"
  },
  "language_info": {
   "codemirror_mode": {
    "name": "ipython",
    "version": 3
   },
   "file_extension": ".py",
   "mimetype": "text/x-python",
   "name": "python",
   "nbconvert_exporter": "python",
   "pygments_lexer": "ipython3",
   "version": "3.6.5"
  }
 },
 "nbformat": 4,
 "nbformat_minor": 2
}
