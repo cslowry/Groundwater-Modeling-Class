{
 "cells": [
  {
   "cell_type": "markdown",
   "metadata": {},
   "source": [
    "# Groundwater Flow Modeling at the University at Buffalo\n",
    "Lab 3: Laplace Equation and simulating the 2D Toth Problem\n"
   ]
  },
  {
   "cell_type": "markdown",
   "metadata": {},
   "source": [
    "## Objective:\n",
    "Develop a 2D finite difference code to represent Toth’s classic groundwater flow profile.\n"
   ]
  },
  {
   "cell_type": "markdown",
   "metadata": {},
   "source": [
    "## Problem:\n",
    "\n",
    "Last week we looked at solving a simple 1D groundwater flow problem using a finite difference approach applied to a Darcy column.  This week we are going to build upon what you learned and try our hand at a steady-state 2D problem simulating Toth’s classic groundwater flow profile.  Toth solved this problem analytically but today we are going to solve it using our newly developed finite difference approach.  If you remember back to what Toth did, he set up a 2D model domain with a constant head boundary on the top of the model and no flow boundaries on the sides and bottom (Figure 1)\n"
   ]
  },
  {
   "cell_type": "markdown",
   "metadata": {},
   "source": [
    "![alt text](Toth_model_domain.png \"Title\")"
   ]
  },
  {
   "cell_type": "markdown",
   "metadata": {},
   "source": [
    "The figure above represents a cross-section through a regional flow model.  We are going to use Matlab to discretize this model into 6 rows and 11 columns, please assume we are dealing with a mesh-centered model.  Remember from class that you are going to have to deal with the no flow boundary conditions in a little bit different way than you did last week with the constant head boundaries.  For this problem we are going to assume that the constant head boundary at the top of the model has a slope represented by the equation h=0.05x+100.  The other deference from last week’s problem is that we are going from 1D to 2D, which really does not end up being a big problem.\n",
    "\t\n",
    "    \n",
    "In the Darcy column code you have a good base to start from in terms of setting up the finite difference solution.  The iteration scheme is going to work the same way as it did before but you are going to need to add a second coordinate direction (use Gauss-Seidel iteration scheme from class).  This can be done by creating a nested “for” loop, which means placing a “for” loop inside of another “for” loop.  You are also going to have to deal with these new boundary conditions (i.e. both Dirchlet and Neumann).  \n"
   ]
  },
  {
   "cell_type": "markdown",
   "metadata": {},
   "source": [
    "### Part I\n",
    "\n",
    "As stated above in the first part of this lab we are going to assume that the water table is represented by the function h=0.05x + 100.  The bottom and side boundaries are represented by no flow conditions as shown in Figure 1.  It is your job to set up a grid of 6 rows by 11 columns (assume each cell is 20m x 20 m) that will solve the Toth problem.  We will assume that the convergence criteria (i.e. maximum change) should be around 0.001 meters.  If you did not have a convergence criteria function written into you code from last week now is the time add it into your code.  Even though this is still a relatively simple model the convergence criteria will make your model more efficient.  \n"
   ]
  },
  {
   "cell_type": "code",
   "execution_count": 1,
   "metadata": {},
   "outputs": [
    {
     "data": {
      "text/plain": [
       "array([[100.        , 101.        , 102.        , 103.        ,\n",
       "        104.        , 105.        , 106.        , 107.        ,\n",
       "        108.        , 109.        , 110.        ],\n",
       "       [102.20700602, 102.20700602, 102.70730925, 103.40234751,\n",
       "        104.18169176, 104.99429097, 105.80685182, 106.58608059,\n",
       "        107.28092521, 107.78095486, 107.78095486],\n",
       "       [102.91506058, 102.91506058, 103.22083562, 103.72130481,\n",
       "        104.33101455, 104.98948273, 105.64788021, 106.25737723,\n",
       "        106.7574897 , 107.06276075, 107.06276075],\n",
       "       [103.31949239, 103.31949239, 103.54109938, 103.93239902,\n",
       "        104.43291226, 104.98604359, 105.53908112, 106.03931208,\n",
       "        106.43013835, 106.65107654, 106.65107654],\n",
       "       [103.5049992 , 103.5049992 , 103.69340396, 104.03594802,\n",
       "        104.48380723, 104.98427169, 105.48463042, 105.93217151,\n",
       "        106.2741821 , 106.46183316, 106.46183316],\n",
       "       [103.5049992 , 103.5049992 , 103.69340396, 104.03594802,\n",
       "        104.48380723, 104.98427169, 105.48463042, 105.93217151,\n",
       "        106.2741821 , 106.46183316, 106.46183316]])"
      ]
     },
     "execution_count": 1,
     "metadata": {},
     "output_type": "execute_result"
    }
   ],
   "source": [
    "import numpy as np\n",
    "\n",
    "#Defining the number of rows and columns\n",
    "rows = 6\n",
    "columns = 11\n",
    "\n",
    "#buliding the model domain\n",
    "model_domain = np.zeros((rows,columns))\n",
    "\n",
    "#This defines the top constant head boundary conditions\n",
    "for top_bound in range(columns):\n",
    "    model_domain[0][top_bound] = 0.05*top_bound*20 +100\n",
    "\n",
    "\n",
    "#Here is where we run the model\n",
    "stop = True\n",
    "\n",
    "model_last = model_domain.copy()\n",
    "\n",
    "\n",
    "while stop:\n",
    "    \n",
    "    for col_loc in range(1,columns-1):\n",
    "        for row_loc in range (1,rows-1):\n",
    "              model_domain[row_loc][col_loc] = (model_domain[row_loc - 1][col_loc] + model_domain[row_loc + 1][col_loc] + \n",
    "                                        model_domain[row_loc][col_loc - 1] + model_domain[row_loc][col_loc + 1])/4\n",
    "                \n",
    "    #This defines the side no flow boundaries - these must be updated ever iteration\n",
    "    for side_bound in range (1,rows):\n",
    "        model_domain[side_bound][0] = model_domain[side_bound][1]\n",
    "        model_domain[side_bound][10] = model_domain[side_bound][9]\n",
    "\n",
    "    #This defines the bottom no flow boundaries - these must be updated ever iteration\n",
    "    for bottom_bound in range (columns):\n",
    "        model_domain[5][bottom_bound] = model_domain[4][bottom_bound]    \n",
    "                \n",
    "                           \n",
    "#Stopping mechanism for iteration \n",
    "\n",
    "    #Finding the Change in head\n",
    "    delta_head = abs(model_domain-model_last)\n",
    "\n",
    "    #This is the convergence criteria for the model\n",
    "    cc = 0.001\n",
    "\n",
    "    #Evaluating if the convergence criteria has been met\n",
    "    test_cc = (delta_head <= np.full((rows,columns),cc)).all()\n",
    "    \n",
    "    if test_cc:\n",
    "        stop = False\n",
    "    else:\n",
    "        model_last = model_domain.copy()\n",
    "    \n",
    "model_domain"
   ]
  },
  {
   "cell_type": "code",
   "execution_count": 3,
   "metadata": {},
   "outputs": [
    {
     "data": {
      "image/png": "[encoded data removed]",
      "text/plain": [
       "<Figure size 432x288 with 1 Axes>"
      ]
     },
     "metadata": {},
     "output_type": "display_data"
    }
   ],
   "source": [
    "import matplotlib.pyplot as plt\n",
    "\n",
    "#Creating a Grid to plot water levels\n",
    "xlist = np.linspace(0, 1100, 11)\n",
    "ylist = np.linspace(0, -500, 6)\n",
    "X, Y = np.meshgrid(xlist, ylist)\n",
    "Z = model_domain\n",
    "\n",
    "#Plotting the water levels\n",
    "plt.figure()\n",
    "cp = plt.contour(X, Y, Z)\n",
    "plt.clabel(cp, inline=True, \n",
    "          fontsize=10)\n",
    "plt.title('Toth Model with Linear Top Boundary')\n",
    "plt.xlabel('Depth (m)')\n",
    "plt.ylabel('Length (m)')\n",
    "plt.show()"
   ]
  },
  {
   "cell_type": "code",
   "execution_count": 4,
   "metadata": {},
   "outputs": [
    {
     "name": "stdout",
     "output_type": "stream",
     "text": [
      "\n",
      "The mass balance error is 1.363146179205239%\n"
     ]
    },
    {
     "data": {
      "image/png": "[encoded data removed]",
      "text/plain": [
       "<Figure size 432x288 with 1 Axes>"
      ]
     },
     "metadata": {},
     "output_type": "display_data"
    }
   ],
   "source": [
    "k = 30 #units meters/day\n",
    "aquifer_thickness = 1 # units meters\n",
    "discharge_cell = [0,1,2,3,4,5,6,7,8,9,10]\n",
    "\n",
    "#Mass Balance\n",
    "for waterbalance_cell in range(columns):\n",
    "    discharge_cell[waterbalance_cell] = k*(model_domain[0][waterbalance_cell]-\n",
    "                                           model_domain[1][waterbalance_cell])/100*(aquifer_thickness*100)\n",
    "total_discharge = sum(discharge_cell)\n",
    "\n",
    "#Percentage Error\n",
    "water_budget_precentage_error = (100*total_discharge)/(sum(map(abs,discharge_cell))/2)\n",
    "print(f'\\nThe mass balance error is {water_budget_precentage_error}%')\n",
    "\n",
    "#Graphing in flows and out flows\n",
    "objects = ('Cell 0', 'Cell 1', 'Cell 2', 'Cell 3', 'Cell 4', 'Cell 5', 'Cell 6', 'Cell 7', 'Cell 8', 'Cell 9', 'Cell 10')\n",
    "y_pos = [0,1,2,3,4,5,6,7,8,9,10]\n",
    "\n",
    "\n",
    "plt.bar(y_pos, discharge_cell, align='center', alpha=0.1)\n",
    "plt.xticks(y_pos, objects)\n",
    "plt.ylabel('Discharge [m^3/day]')\n",
    "plt.title('Water Balance')\n",
    "\n",
    "plt.show()"
   ]
  },
  {
   "cell_type": "markdown",
   "metadata": {},
   "source": [
    "### Part II\n",
    "\n",
    "In the second part of this lab we are simply going to change the slope of the water table to 0.02.  The rest of the boundary conditions will remain no flow boundaries.\n"
   ]
  },
  {
   "cell_type": "code",
   "execution_count": 23,
   "metadata": {},
   "outputs": [
    {
     "data": {
      "image/png": "[encoded data removed]",
      "text/plain": [
       "<Figure size 432x288 with 1 Axes>"
      ]
     },
     "metadata": {},
     "output_type": "display_data"
    }
   ],
   "source": [
    "import numpy as np\n",
    "import matplotlib.pyplot as plt\n",
    "\n",
    "#Defining the number of rows and columns\n",
    "rows = 6\n",
    "columns = 11\n",
    "\n",
    "#buliding the model domain\n",
    "model_domain = np.zeros((rows,columns))\n",
    "\n",
    "#This defines the top constant head boundary conditions\n",
    "for top_bound in range(columns):\n",
    "    model_domain[0][top_bound] = 0.02*top_bound*20 +100\n",
    "\n",
    "\n",
    "#Here is where we run the model\n",
    "stop = True\n",
    "\n",
    "model_last = model_domain.copy()\n",
    "\n",
    "\n",
    "while stop:\n",
    "    \n",
    "    for col_loc in range(1,columns-1):\n",
    "        for row_loc in range (1,rows-1):\n",
    "              model_domain[row_loc][col_loc] = (model_domain[row_loc - 1][col_loc] + model_domain[row_loc + 1][col_loc] + \n",
    "                                        model_domain[row_loc][col_loc - 1] + model_domain[row_loc][col_loc + 1])/4\n",
    "                \n",
    "    #This defines the side no flow boundaries - these must be updated ever iteration\n",
    "    for side_bound in range (1,rows):\n",
    "        model_domain[side_bound][0] = model_domain[side_bound][1]\n",
    "        model_domain[side_bound][10] = model_domain[side_bound][9]\n",
    "\n",
    "    #This defines the bottom no flow boundaries - these must be updated ever iteration\n",
    "    for bottom_bound in range (columns):\n",
    "        model_domain[5][bottom_bound] = model_domain[4][bottom_bound]    \n",
    "                \n",
    "                           \n",
    "#Stopping mechanism for iteration \n",
    "\n",
    "    #Finding the Change in head\n",
    "    delta_head = abs(model_domain-model_last)\n",
    "\n",
    "    #This is the convergence criteria for the model\n",
    "    cc = 0.001\n",
    "\n",
    "    #Evaluating if the convergence criteria has been met\n",
    "    test_cc = (delta_head <= np.full((rows,columns),cc)).all()\n",
    "    \n",
    "    if test_cc:\n",
    "        stop = False\n",
    "    else:\n",
    "        model_last = model_domain.copy()\n",
    "\n",
    "\n",
    "#Creating a Grid to plot water levels\n",
    "xlist = np.linspace(0, 1100, 11)\n",
    "ylist = np.linspace(0, -500, 6)\n",
    "X, Y = np.meshgrid(xlist, ylist)\n",
    "Z = model_domain\n",
    "\n",
    "#Plotting the water levels\n",
    "plt.figure()\n",
    "cp = plt.contour(X, Y, Z)\n",
    "plt.clabel(cp, inline=True, \n",
    "          fontsize=10)\n",
    "plt.title('Toth Model with Linear Top Boundary')\n",
    "plt.xlabel('Depth (m)')\n",
    "plt.ylabel('Length (m)')\n",
    "plt.show()    \n"
   ]
  },
  {
   "cell_type": "code",
   "execution_count": 6,
   "metadata": {},
   "outputs": [
    {
     "data": {
      "text/plain": [
       "array([[100.        , 100.4       , 100.8       , 101.2       ,\n",
       "        101.6       , 102.        , 102.4       , 102.8       ,\n",
       "        103.2       , 103.6       , 104.        ],\n",
       "       [100.87901135, 100.87901135, 101.07930563, 101.35746623,\n",
       "        101.6693237 , 101.99445956, 102.31955819, 102.63130359,\n",
       "        102.90927627, 103.10930505, 103.10930505],\n",
       "       [101.15904027, 101.15904027, 101.28166897, 101.48212431,\n",
       "        101.72622885, 101.98979331, 102.25328915, 102.49718725,\n",
       "        102.69729641, 102.81943599, 102.81943599],\n",
       "       [101.31852924, 101.31852924, 101.40759493, 101.56446998,\n",
       "        101.76496808, 101.98645573, 102.20785234, 102.40807649,\n",
       "        102.56449215, 102.65290878, 102.65290878],\n",
       "       [101.39155534, 101.39155534, 101.46739382, 101.60481173,\n",
       "        101.78428539, 101.98473615, 102.1850843 , 102.36424923,\n",
       "        102.50114943, 102.57625645, 102.57625645],\n",
       "       [101.39155534, 101.39155534, 101.46739382, 101.60481173,\n",
       "        101.78428539, 101.98473615, 102.1850843 , 102.36424923,\n",
       "        102.50114943, 102.57625645, 102.57625645]])"
      ]
     },
     "execution_count": 6,
     "metadata": {},
     "output_type": "execute_result"
    }
   ],
   "source": [
    "model_domain"
   ]
  },
  {
   "cell_type": "code",
   "execution_count": 7,
   "metadata": {},
   "outputs": [
    {
     "name": "stdout",
     "output_type": "stream",
     "text": [
      "\n",
      "The mass balance error is 3.3065425694222106%\n"
     ]
    },
    {
     "data": {
      "image/png": "[encoded data removed]",
      "text/plain": [
       "<Figure size 432x288 with 1 Axes>"
      ]
     },
     "metadata": {},
     "output_type": "display_data"
    }
   ],
   "source": [
    "k = 30 #units meters/day\n",
    "aquifer_thickness = 1 # units meters\n",
    "discharge_cell = [0,1,2,3,4,5,6,7,8,9,10]\n",
    "\n",
    "#Mass Balance\n",
    "for waterbalance_cell in range(columns):\n",
    "    discharge_cell[waterbalance_cell] = k*(model_domain[0][waterbalance_cell]-\n",
    "                                           model_domain[1][waterbalance_cell])/100*(aquifer_thickness*100)\n",
    "total_discharge = sum(discharge_cell)\n",
    "\n",
    "#Percentage Error\n",
    "water_budget_precentage_error = (100*total_discharge)/(sum(map(abs,discharge_cell))/2)\n",
    "print(f'\\nThe mass balance error is {water_budget_precentage_error}%')\n",
    "\n",
    "#Graphing in flows and out flows\n",
    "objects = ('Cell 0', 'Cell 1', 'Cell 2', 'Cell 3', 'Cell 4', 'Cell 5', 'Cell 6', 'Cell 7', 'Cell 8', 'Cell 9', 'Cell 10')\n",
    "y_pos = [0,1,2,3,4,5,6,7,8,9,10]\n",
    "\n",
    "\n",
    "plt.bar(y_pos, discharge_cell, align='center', alpha=0.1)\n",
    "plt.xticks(y_pos, objects)\n",
    "plt.ylabel('Discharge [m^3/day]')\n",
    "plt.title('Water Balance')\n",
    "\n",
    "plt.show()"
   ]
  },
  {
   "cell_type": "markdown",
   "metadata": {},
   "source": [
    "### Part III\n",
    "\n",
    "Add a water balance calculation to the models developed in part I and II of the lab.  Assume the hydraulic conductivity of the aquifer is 30 m/day.  Calculate the total recharge and discharge across the water table per unit width of the cross-section.  Also determine the location of the hinge point where the constant head boundary switches from recharge to discharge.  Include these water balance calculations in the Matlab codes for both Part I and II.  Please briefly answer the following questions:"
   ]
  },
  {
   "cell_type": "markdown",
   "metadata": {},
   "source": [
    "1.  What are the differences in the water balance results between the two models?  "
   ]
  },
  {
   "cell_type": "code",
   "execution_count": null,
   "metadata": {},
   "outputs": [],
   "source": []
  },
  {
   "cell_type": "markdown",
   "metadata": {},
   "source": [
    "2.  Does the hinge point move when the slope of the water table is change?  Why does this occur?"
   ]
  },
  {
   "cell_type": "code",
   "execution_count": null,
   "metadata": {},
   "outputs": [],
   "source": []
  },
  {
   "cell_type": "markdown",
   "metadata": {},
   "source": [
    "### Part IV\n",
    "\n",
    "Finally lets see what happens when we create a finer discretization.  Build a final model with 51 rows by 101 columns and a water table slope of 0.05.  Add a water balance calculation to this finer discretized model.  Please briefly answer the following questions:"
   ]
  },
  {
   "cell_type": "code",
   "execution_count": 21,
   "metadata": {},
   "outputs": [
    {
     "data": {
      "image/png": "[encoded data removed]",
      "text/plain": [
       "<Figure size 432x288 with 1 Axes>"
      ]
     },
     "metadata": {},
     "output_type": "display_data"
    }
   ],
   "source": [
    "import numpy as np\n",
    "\n",
    "#Defining the number of rows and columns\n",
    "rows = 51\n",
    "columns = 101\n",
    "\n",
    "#buliding the model domain (I set the initial condition to 100 m to speed things up)\n",
    "model_domain = 100*np.ones((rows,columns))\n",
    "\n",
    "#This defines the top constant head boundary conditions\n",
    "for top_bound in range(columns):\n",
    "    model_domain[0][top_bound] = 0.05*top_bound*2 +100\n",
    "\n",
    "\n",
    "#Here is where we run the model\n",
    "stop = True\n",
    "\n",
    "model_last = model_domain.copy()\n",
    "\n",
    "\n",
    "while stop:\n",
    "    \n",
    "    for col_loc in range(1,columns-1):\n",
    "        for row_loc in range (1,rows-1):\n",
    "              model_domain[row_loc][col_loc] = (model_domain[row_loc - 1][col_loc] + model_domain[row_loc + 1][col_loc] + \n",
    "                                        model_domain[row_loc][col_loc - 1] + model_domain[row_loc][col_loc + 1])/4\n",
    "                \n",
    "    #This defines the side no flow boundaries - these must be updated ever iteration\n",
    "    for side_bound in range (1,rows):\n",
    "        model_domain[side_bound][0] = model_domain[side_bound][1]\n",
    "        model_domain[side_bound][columns-1] = model_domain[side_bound][columns-2]\n",
    "\n",
    "    #This defines the bottom no flow boundaries - these must be updated ever iteration\n",
    "    for bottom_bound in range (columns):\n",
    "        model_domain[5][bottom_bound] = model_domain[4][bottom_bound]    \n",
    "                \n",
    "                           \n",
    "#Stopping mechanism for iteration \n",
    "\n",
    "    #Finding the Change in head\n",
    "    delta_head = abs(model_domain-model_last)\n",
    "\n",
    "    #This is the convergence criteria for the model\n",
    "    cc = 0.000001\n",
    "\n",
    "    #Evaluating if the convergence criteria has been met\n",
    "    test_cc = (delta_head <= np.full((rows,columns),cc)).all()\n",
    "    \n",
    "    if test_cc:\n",
    "        stop = False\n",
    "    else:\n",
    "        model_last = model_domain.copy()\n",
    "    \n",
    "model_domain\n",
    "\n",
    "import matplotlib.pyplot as plt\n",
    "\n",
    "#Creating a Grid to plot water levels\n",
    "xlist = np.linspace(0, 1100, columns)\n",
    "ylist = np.linspace(0, -500, rows)\n",
    "X, Y = np.meshgrid(xlist, ylist)\n",
    "Z = model_domain\n",
    "\n",
    "#Plotting the water levels\n",
    "plt.figure()\n",
    "cp = plt.contour(X, Y, Z)\n",
    "plt.clabel(cp, inline=True, \n",
    "          fontsize=10)\n",
    "plt.title('Toth Model with Linear Top Boundary')\n",
    "plt.xlabel('Length (m)')\n",
    "plt.ylabel('Depth (m)')\n",
    "plt.show()"
   ]
  },
  {
   "cell_type": "code",
   "execution_count": 17,
   "metadata": {},
   "outputs": [
    {
     "name": "stdout",
     "output_type": "stream",
     "text": [
      "\n",
      "The mass balance error is 1.0386168020057857e-09%\n"
     ]
    },
    {
     "data": {
      "image/png": "[encoded data removed]",
      "text/plain": [
       "<Figure size 432x288 with 1 Axes>"
      ]
     },
     "metadata": {},
     "output_type": "display_data"
    }
   ],
   "source": [
    "k = 30 #units meters/day\n",
    "aquifer_thickness = 1 # units meters\n",
    "discharge_cell = columns*[1]\n",
    "\n",
    "#Mass Balance\n",
    "for waterbalance_cell in range(columns):\n",
    "    discharge_cell[waterbalance_cell] = k*(model_domain[0][waterbalance_cell]-\n",
    "                                           model_domain[1][waterbalance_cell])/100*(aquifer_thickness*100)\n",
    "total_discharge = sum(discharge_cell)\n",
    "\n",
    "#Percentage Error\n",
    "water_budget_precentage_error = (100*total_discharge)/(sum(map(abs,discharge_cell))/2)\n",
    "print(f'\\nThe mass balance error is {water_budget_precentage_error}%')\n",
    "\n",
    "#Graphing in flows and out flows\n",
    "plt.bar(y_pos, discharge_cell, align='center', alpha=0.1)\n",
    "plt.ylabel('Discharge [m^3/day]')\n",
    "plt.xlabel('Model Cell Number')\n",
    "plt.title('Water Balance')\n",
    "\n",
    "plt.show()"
   ]
  },
  {
   "cell_type": "markdown",
   "metadata": {},
   "source": [
    "2.  Does the hinge point move when the slope of the water table is change?  Why does this occur?"
   ]
  },
  {
   "cell_type": "code",
   "execution_count": null,
   "metadata": {},
   "outputs": [],
   "source": []
  },
  {
   "cell_type": "markdown",
   "metadata": {},
   "source": [
    "2.  What changes did you observe in the position of the hinge line?"
   ]
  },
  {
   "cell_type": "code",
   "execution_count": null,
   "metadata": {},
   "outputs": [],
   "source": []
  }
 ],
 "metadata": {
  "kernelspec": {
   "display_name": "Python 3",
   "language": "python",
   "name": "python3"
  },
  "language_info": {
   "codemirror_mode": {
    "name": "ipython",
    "version": 3
   },
   "file_extension": ".py",
   "mimetype": "text/x-python",
   "name": "python",
   "nbconvert_exporter": "python",
   "pygments_lexer": "ipython3",
   "version": "3.6.5"
  }
 },
 "nbformat": 4,
 "nbformat_minor": 2
}
